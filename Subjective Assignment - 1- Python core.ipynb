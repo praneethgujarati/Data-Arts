{
 "cells": [
  {
   "cell_type": "markdown",
   "metadata": {},
   "source": [
    "Q1. Write a Python program to get the string from the given string where\n",
    "all the occurrence of its first char has been changed to '$,' except first\n",
    "char itself?\n",
    "\n",
    "    Sample String: 'prospect'\n",
    "    Expected Result : 'pros$ect'\n"
   ]
  },
  {
   "cell_type": "code",
   "execution_count": 2,
   "metadata": {},
   "outputs": [
    {
     "name": "stdout",
     "output_type": "stream",
     "text": [
      "enter a word:prospect\n",
      "pros$ect\n"
     ]
    }
   ],
   "source": [
    "str1=input(\"enter a word:\")\n",
    "dict={}\n",
    "for i in str1:\n",
    "    keys=dict.keys()\n",
    "    if i in keys:\n",
    "        dict[i] = dict[i] + 1\n",
    "    else:\n",
    "        dict[i] = 1\n",
    "for j in dict.keys():\n",
    "    if dict[j] > 1:\n",
    "        str1=str1.replace(j,'$',-1)\n",
    "        str1=str1.replace('$',j,1)\n",
    "print(str1)"
   ]
  },
  {
   "cell_type": "markdown",
   "metadata": {},
   "source": [
    "Q2. Write a Python program to get the single string from the two given\n",
    "strings, and separated by the space and swap the first two characters of\n",
    "each string?\n",
    "\n",
    "    Sample String : 'abc', 'xyz'.\n",
    "    Expected Result: 'xyc abz'"
   ]
  },
  {
   "cell_type": "code",
   "execution_count": 3,
   "metadata": {
    "scrolled": true
   },
   "outputs": [
    {
     "name": "stdout",
     "output_type": "stream",
     "text": [
      "enter a string value:abc,xyz\n",
      "xyc abz\n"
     ]
    }
   ],
   "source": [
    "str1=input(\"enter a string value:\")\n",
    "a=str1.split(\",\")\n",
    "print((a[1][0:2]+a[0][2]),(a[0][0:2]+a[1][2]))"
   ]
  },
  {
   "cell_type": "markdown",
   "metadata": {},
   "source": [
    "Q3. Write the Python program to add 'ing' at the end of the given string\n",
    "(length of the string should be at least 3). If given string already ends\n",
    "with 'ing,' then add 'ly' instead. If string length of the given string is less\n",
    "than 3, leave it unchanged?\n",
    "\n",
    "\n",
    "    Sample string: ' abc '\n",
    "    Expected result: ' abcing '\n",
    "    Sample string: ' string '\n",
    "    Expected result: ' stringly '\n"
   ]
  },
  {
   "cell_type": "code",
   "execution_count": 4,
   "metadata": {},
   "outputs": [
    {
     "name": "stdout",
     "output_type": "stream",
     "text": [
      "enter a word:abc\n",
      "abcing\n"
     ]
    }
   ],
   "source": [
    "str1=input(\"enter a word:\")\n",
    "length=len(str1)\n",
    "if length>2:\n",
    "    if str1[-3:]=='ing':  \n",
    "        str1=str1+'ly'\n",
    "    else:\n",
    "        str1=str1+'ing'\n",
    "else:\n",
    "    str1\n",
    "print(str1)"
   ]
  },
  {
   "cell_type": "markdown",
   "metadata": {},
   "source": [
    "Q4. Write the Python program to find the first appearance of the\n",
    "substring 'not' and 'poor' from the given string, if 'not' follows the 'poor',\n",
    "replace the whole 'not'...' poor' substring with 'good'.Return the resulting\n",
    "string.\n",
    "\n",
    "    Sample string: 'The lyrics are not that poor!'\n",
    "    'The lyrics are poor!'\n",
    "    Expected Result: 'The lyrics are good!'\n",
    "    'The lyrics are poor!'"
   ]
  },
  {
   "cell_type": "code",
   "execution_count": 5,
   "metadata": {},
   "outputs": [
    {
     "name": "stdout",
     "output_type": "stream",
     "text": [
      "The lyrics are good!.\n",
      "The lyrics are good!.\n"
     ]
    }
   ],
   "source": [
    "str1=\"The lyrics are not that poor!.\\nThe lyrics are good!.\"\n",
    "str1_split=str1.split(\"\\n\")\n",
    "for i in str1_split:\n",
    "    b=i.find(\"not\")\n",
    "    c=i.find(\"poor\")\n",
    "    e=i[b:c+4]\n",
    "    if b==-1 or c==-1:\n",
    "        print(i)\n",
    "    elif b<c:\n",
    "        print(i.replace(e,'good',1))"
   ]
  },
  {
   "cell_type": "markdown",
   "metadata": {},
   "source": [
    "Q5. Write the Python program to remove the characters which have odd\n",
    "index values of a given string."
   ]
  },
  {
   "cell_type": "code",
   "execution_count": 8,
   "metadata": {},
   "outputs": [
    {
     "name": "stdout",
     "output_type": "stream",
     "text": [
      "ace"
     ]
    }
   ],
   "source": [
    "str1=\"abcde\"\n",
    "leng=len(str1)\n",
    "for i in range(0,leng+1,2):\n",
    "    print(str1[i],end='')"
   ]
  },
  {
   "cell_type": "markdown",
   "metadata": {},
   "source": [
    "Q6. Write the python program to print the following floating numbers up\n",
    "to 2 decimal places?"
   ]
  },
  {
   "cell_type": "code",
   "execution_count": 9,
   "metadata": {
    "scrolled": true
   },
   "outputs": [
    {
     "name": "stdout",
     "output_type": "stream",
     "text": [
      "enter a value:25.333\n",
      "25.33\n"
     ]
    }
   ],
   "source": [
    "num=input(\"enter a value:\")\n",
    "print(round(float(num),2))"
   ]
  },
  {
   "cell_type": "markdown",
   "metadata": {},
   "source": [
    "Q7. Write the Python program to format a number with a percentage?"
   ]
  },
  {
   "cell_type": "code",
   "execution_count": 10,
   "metadata": {},
   "outputs": [
    {
     "name": "stdout",
     "output_type": "stream",
     "text": [
      "54.36%\n"
     ]
    }
   ],
   "source": [
    "num=0.5436\n",
    "print(\"{:.2%}\".format(num))"
   ]
  },
  {
   "cell_type": "markdown",
   "metadata": {},
   "source": [
    "Q8. Write the Python program to count occurrences of a substring in a\n",
    "String?"
   ]
  },
  {
   "cell_type": "code",
   "execution_count": 11,
   "metadata": {},
   "outputs": [
    {
     "name": "stdout",
     "output_type": "stream",
     "text": [
      "{'this': 2, 'is': 2, 'a': 2, 'pistol': 1, 'and': 1, 'book': 1}\n"
     ]
    }
   ],
   "source": [
    "str1='this is a pistol'\n",
    "str2='this is a pistol and this is a book'\n",
    "dict={}\n",
    "split_str=str2.split(\" \")\n",
    "for i in split_str:\n",
    "    if i in dict:\n",
    "        dict[i]+=1\n",
    "    else:\n",
    "        dict[i]=1\n",
    "print(dict)"
   ]
  },
  {
   "cell_type": "markdown",
   "metadata": {},
   "source": [
    "Q9. Write the Python program to count repeated characters in a string.\n",
    "\n",
    "    Sample string: ' thequickbrownjumpsoverthelazydog '\n",
    "    \n",
    "    Expected output:\n",
    "    o 3\n",
    "    e 3\n",
    "    u 2\n",
    "    h 2\n",
    "    r 2\n",
    "    t 2"
   ]
  },
  {
   "cell_type": "code",
   "execution_count": 25,
   "metadata": {},
   "outputs": [
    {
     "name": "stdout",
     "output_type": "stream",
     "text": [
      "u 2\n",
      "r 2\n",
      "t 2\n",
      "o 3\n",
      "e 3\n",
      "h 2\n"
     ]
    }
   ],
   "source": [
    "str1='thequickbrownjumpsoverthelazydog'\n",
    "set1=set()\n",
    "for i in str1:\n",
    "    set1.add(i)\n",
    "dict={}\n",
    "for i in str1:\n",
    "    if i in dict:\n",
    "        dict[i]+=1\n",
    "    else:\n",
    "        dict[i]=1\n",
    "for i in set1:\n",
    "    if dict[i] > 1:\n",
    "        print(i,dict[i])"
   ]
  },
  {
   "cell_type": "markdown",
   "metadata": {},
   "source": [
    "Q10. Write the Python program to print the square and cube symbol in\n",
    "the area of a rectangle and volume of a cylinder?\n",
    "\n",
    "    Sample outputThe area of the rectangle is 1256.66cm2\n",
    "    The volume of the cylinder is 1254.725cm3\n"
   ]
  },
  {
   "cell_type": "code",
   "execution_count": 10,
   "metadata": {},
   "outputs": [
    {
     "name": "stdout",
     "output_type": "stream",
     "text": [
      "The area of the rectangle is 1256.66cm²\n",
      "The volume of the cylinder is 1254.725cm³\n"
     ]
    }
   ],
   "source": [
    "print(\"The area of the rectangle is 1256.66cm\\u00b2\")\n",
    "print(\"The volume of the cylinder is 1254.725cm\\u00b3\")"
   ]
  },
  {
   "cell_type": "markdown",
   "metadata": {},
   "source": [
    "Q11. Write the Python program to check if a string contains all letters of\n",
    "the alphabet?"
   ]
  },
  {
   "cell_type": "code",
   "execution_count": 26,
   "metadata": {},
   "outputs": [
    {
     "name": "stdout",
     "output_type": "stream",
     "text": [
      "enter a string:praneeth\n",
      "no\n"
     ]
    }
   ],
   "source": [
    "str1=[chr(i) for i in range(ord('a'),ord('z')+1)]\n",
    "low_case_str=input(\"enter a string:\").lower()\n",
    "\n",
    "for i in str1:\n",
    "    if i not in low_case_str:\n",
    "        print(\"no\")\n",
    "        break\n",
    "else:\n",
    "    print(\"yes\")"
   ]
  },
  {
   "cell_type": "markdown",
   "metadata": {},
   "source": [
    "Q12. Write the Python program to find the second most repeated word\n",
    "in a given string?"
   ]
  },
  {
   "cell_type": "code",
   "execution_count": 29,
   "metadata": {},
   "outputs": [
    {
     "name": "stdout",
     "output_type": "stream",
     "text": [
      "enter a string:this is this\n",
      "1\n",
      "is 1\n"
     ]
    }
   ],
   "source": [
    "str1=input(\"enter a string:\")\n",
    "str1_split=str1.split(\" \")\n",
    "dict={}\n",
    "for i in str1_split:\n",
    "    if i in dict:\n",
    "        dict[i]+=1\n",
    "    else:\n",
    "        dict[i]=1\n",
    "set1=sorted(set(dict.values()),reverse=True)\n",
    "for i in sorted(dict,key=dict.get,reverse=True):\n",
    "    if dict[i]==set1[1]:\n",
    "        print(i,dict[i])\n",
    "\n",
    "    "
   ]
  },
  {
   "cell_type": "markdown",
   "metadata": {},
   "source": [
    "Q13. Write the Python program to find the minimum window in the given\n",
    "string, which will contains all the characters of another given\n",
    "strings?\n",
    "\n",
    "    Example 1\n",
    "    Input : string1 = \" PRWSOERIUSFK \"\n",
    "    string2 = \" OSU \"\n",
    "    Output: Minimum window is \"OERIUS\""
   ]
  },
  {
   "cell_type": "code",
   "execution_count": 17,
   "metadata": {},
   "outputs": [
    {
     "name": "stdout",
     "output_type": "stream",
     "text": [
      "SOERIU\n"
     ]
    }
   ],
   "source": [
    "string1 = \"PRWSOERIUSFK\"\n",
    "string2 = \"OSU\"\n",
    "lis=set()\n",
    "for i in string2:\n",
    "    a=string1.find(i)\n",
    "    lis.add(a)\n",
    "b=sorted(lis)\n",
    "print(string1[b[0]:(b[-1]+1)])"
   ]
  },
  {
   "cell_type": "markdown",
   "metadata": {},
   "source": [
    "Q14. Write the Python program to count number of substrings from a\n",
    "given string of lowercase alphabets with exactly k distinct (given)\n",
    "characters?\n",
    "\n",
    "    Input a string (lowercase alphabets): wolf\n",
    "    Input k: 4\n",
    "    Number of substrings with exactly 4 distinct characters: 1"
   ]
  },
  {
   "cell_type": "code",
   "execution_count": 14,
   "metadata": {},
   "outputs": [
    {
     "name": "stdout",
     "output_type": "stream",
     "text": [
      "4\n"
     ]
    }
   ],
   "source": [
    "def sameendchars(s,l):\n",
    "    result=0\n",
    "    le=len(s)\n",
    "    for i in range(le):\n",
    "        for j in range(i+1,le+1):\n",
    "            a=s[i:j]\n",
    "            if (len(a)==l):\n",
    "                result+=1\n",
    "    print(result)\n",
    "                \n",
    "b=sameendchars(\"ababd\",2)\n"
   ]
  },
  {
   "cell_type": "markdown",
   "metadata": {},
   "source": [
    "Q15. Write the Python program to count number of substrings with same\n",
    "first and last characters of the given string?\n",
    "\n",
    "    Input a string: abcd\n",
    "    4\n"
   ]
  },
  {
   "cell_type": "code",
   "execution_count": 15,
   "metadata": {},
   "outputs": [
    {
     "name": "stdout",
     "output_type": "stream",
     "text": [
      "7\n"
     ]
    }
   ],
   "source": [
    "def sameendchars(s,l):\n",
    "    result=0\n",
    "    for i in range(l):\n",
    "        for j in range(i,l):\n",
    "            if (s[i]==s[j]):\n",
    "                result+=1\n",
    "    return result\n",
    "b=sameendchars(\"ababd\",len(\"ababd\"))\n",
    "print(b)"
   ]
  },
  {
   "cell_type": "markdown",
   "metadata": {},
   "source": [
    "## Great Job!"
   ]
  }
 ],
 "metadata": {
  "kernelspec": {
   "display_name": "Python 3",
   "language": "python",
   "name": "python3"
  },
  "language_info": {
   "codemirror_mode": {
    "name": "ipython",
    "version": 3
   },
   "file_extension": ".py",
   "mimetype": "text/x-python",
   "name": "python",
   "nbconvert_exporter": "python",
   "pygments_lexer": "ipython3",
   "version": "3.7.4"
  }
 },
 "nbformat": 4,
 "nbformat_minor": 2
}
