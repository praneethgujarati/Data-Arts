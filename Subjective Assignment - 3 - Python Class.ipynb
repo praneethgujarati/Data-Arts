{
 "cells": [
  {
   "cell_type": "markdown",
   "metadata": {},
   "source": [
    "# Assignment"
   ]
  },
  {
   "cell_type": "markdown",
   "metadata": {},
   "source": [
    "Q1. Write the Python class to convert an integer to a roman numeral?"
   ]
  },
  {
   "cell_type": "code",
   "execution_count": 20,
   "metadata": {},
   "outputs": [
    {
     "name": "stdout",
     "output_type": "stream",
     "text": [
      "DXCI\n"
     ]
    }
   ],
   "source": [
    "class pyroman():\n",
    "    def int_to_Roman(num):\n",
    "        val = [\n",
    "            1000, 900, 500, 400,\n",
    "            100, 90, 50, 40,\n",
    "            10, 9, 5, 4,\n",
    "            1\n",
    "            ]\n",
    "        syb = [\n",
    "            \"M\", \"CM\", \"D\", \"CD\",\n",
    "            \"C\", \"XC\", \"L\", \"XL\",\n",
    "            \"X\", \"IX\", \"V\", \"IV\",\n",
    "            \"I\"\n",
    "            ]\n",
    "        roman_num = ''\n",
    "        i = 0\n",
    "        while num>0:\n",
    "            div=num//val[i]\n",
    "            num=num%val[i]\n",
    "            \n",
    "            while div>0:\n",
    "                roman_num+=syb[i]\n",
    "                div-=1\n",
    "            i+=1\n",
    "        print(roman_num)\n",
    "pyroman.int_to_Roman(591)"
   ]
  },
  {
   "cell_type": "markdown",
   "metadata": {},
   "source": [
    "Q2 Write the Python class to convert a Roman numeral to an integer?\n"
   ]
  },
  {
   "cell_type": "code",
   "execution_count": 31,
   "metadata": {},
   "outputs": [
    {
     "name": "stdout",
     "output_type": "stream",
     "text": [
      "3986\n"
     ]
    }
   ],
   "source": [
    "class roman:\n",
    "    def roman_to_int(self, s):\n",
    "        rom_val = {'I': 1, 'V': 5, 'X': 10, 'L': 50, 'C': 100, 'D': 500, 'M': 1000}\n",
    "        int_val = 0\n",
    "        for i in range(len(s)):\n",
    "            if i > 0 and rom_val[s[i]] > rom_val[s[i - 1]]:\n",
    "                int_val += rom_val[s[i]] - 2 * rom_val[s[i - 1]]\n",
    "            else:\n",
    "                int_val += rom_val[s[i]]\n",
    "        return int_val\n",
    "\n",
    "print(roman().roman_to_int('MMMCMLXXXVI'))"
   ]
  },
  {
   "cell_type": "markdown",
   "metadata": {},
   "source": [
    "Q3. Write the Python class to find the validity of the string of the\n",
    "parentheses, '(', ')', '{', '}', '[' and '] and the brackets must be closed\n",
    "in the correct order, example - \"()\" and \"()[]{}\" are valid but \"[)\",\n",
    "\"({[)]\" and \"{{{\" are invalid.\n"
   ]
  },
  {
   "cell_type": "code",
   "execution_count": 1,
   "metadata": {},
   "outputs": [
    {
     "name": "stdout",
     "output_type": "stream",
     "text": [
      "True\n",
      "False\n",
      "True\n"
     ]
    }
   ],
   "source": [
    "class py_solution:\n",
    "   def is_valid_parenthese(self, str1):\n",
    "        stack, pchar = [], {\"(\": \")\", \"{\": \"}\", \"[\": \"]\"}\n",
    "        for parenthese in str1:\n",
    "            if parenthese in pchar:\n",
    "                stack.append(parenthese)\n",
    "            elif len(stack) == 0 or pchar[stack.pop()] != parenthese:\n",
    "                return False\n",
    "        return len(stack) == 0\n",
    "\n",
    "print(py_solution().is_valid_parenthese(\"(){}[]\"))\n",
    "print(py_solution().is_valid_parenthese(\"()[{)}\"))\n",
    "print(py_solution().is_valid_parenthese(\"()\"))\n"
   ]
  },
  {
   "cell_type": "markdown",
   "metadata": {},
   "source": [
    "Q4. Write the Python class to get all possible unique subsets from a set\n",
    "of distinct integers?\n",
    "\n",
    "    Input - [4, 5, 6]\n",
    "    Output - [[], [6], [5], [5, 6], [4], [4, 6], [4, 5], [4, 5, 6]]"
   ]
  },
  {
   "cell_type": "code",
   "execution_count": 27,
   "metadata": {},
   "outputs": [
    {
     "name": "stdout",
     "output_type": "stream",
     "text": [
      "[[], [4], [5], [6], [4, 5], [4, 6], [5, 6], [4, 5, 6]]\n"
     ]
    }
   ],
   "source": [
    "from itertools import combinations\n",
    "class subsets:\n",
    "    def subs(a):\n",
    "        d=[]\n",
    "        for i in range((len(a)+1)):\n",
    "            b=combinations(a,i)\n",
    "            for i in b:\n",
    "                c=list(i) \n",
    "                d.append(c)\n",
    "        print(d)\n",
    "subsets.subs([4,5,6])\n",
    "    "
   ]
  },
  {
   "cell_type": "markdown",
   "metadata": {},
   "source": [
    "Q5. Write the Python class to find a pair of elements (indices of the two\n",
    "numbers) from a given array whose sum equals the specific target\n",
    "number?\n",
    "\n",
    "    Input: numbers- [10,20,10,40,50,60,70], target=50\n",
    "    Output- 3, 4"
   ]
  },
  {
   "cell_type": "code",
   "execution_count": 25,
   "metadata": {},
   "outputs": [
    {
     "name": "stdout",
     "output_type": "stream",
     "text": [
      "index1=2, index2=3\n"
     ]
    }
   ],
   "source": [
    "class py_solution:\n",
    "   def twoSum(self, nums, target):\n",
    "        lookup = {}\n",
    "        for i, num in enumerate(nums):\n",
    "            if target - num in lookup:\n",
    "                return (lookup[target - num], i )\n",
    "            lookup[num] = i\n",
    "print(\"index1=%d, index2=%d\" % py_solution().twoSum((10,20,10,40,50,60,70),50))\n",
    "#print(py_solution.twoSum((10,20,10,40,50,60,70),50))"
   ]
  },
  {
   "cell_type": "markdown",
   "metadata": {},
   "source": [
    "Q6. Write the Python class to find the three elements that sum to zero\n",
    "from the set of n real numbers?\n",
    "\n",
    "    Input array- [-25, -10, -7, -3, 2, 4, 8, 10]\n",
    "    Output - [[-10, 2, 8], [-7, -3, 10]]\n"
   ]
  },
  {
   "cell_type": "code",
   "execution_count": 2,
   "metadata": {},
   "outputs": [
    {
     "name": "stdout",
     "output_type": "stream",
     "text": [
      "[[-10, 2, 8], [-7, -3, 10]]\n"
     ]
    }
   ],
   "source": [
    "from itertools import combinations\n",
    "comb=combinations([-25, -10, -7, -3, 2, 4, 8, 10],3)\n",
    "a=[]\n",
    "for i in list(comb):\n",
    "    if sum(i)==0:\n",
    "        a.append(list(i))\n",
    "print(a)\n",
    "        "
   ]
  },
  {
   "cell_type": "markdown",
   "metadata": {},
   "source": [
    "Q7. Write the Python class to implement pow(x, n)?"
   ]
  },
  {
   "cell_type": "code",
   "execution_count": 31,
   "metadata": {},
   "outputs": [
    {
     "name": "stdout",
     "output_type": "stream",
     "text": [
      "243\n"
     ]
    }
   ],
   "source": [
    "class py_solution:\n",
    "   def pow(self, x, n):\n",
    "        if x==0 or x==1 or n==1:\n",
    "            return x \n",
    "\n",
    "        if x==-1:\n",
    "            if n%2 ==0:\n",
    "                return 1\n",
    "            else:\n",
    "                return -1\n",
    "        if n==0:\n",
    "            return 1\n",
    "        if n<0:\n",
    "            return 1/self.pow(x,-n)\n",
    "        val = self.pow(x,n//2)\n",
    "        if n%2 ==0:\n",
    "            return val*val\n",
    "        return val*val*x\n",
    "\n",
    "\n",
    "print(py_solution().pow(3,5));\n",
    "\n"
   ]
  },
  {
   "cell_type": "markdown",
   "metadata": {},
   "source": [
    "Q8. Write the Python class which has two methods get_String and\n",
    "print_String. get_String accept the string from the user and \n",
    "print_String print the string in upper case."
   ]
  },
  {
   "cell_type": "code",
   "execution_count": 33,
   "metadata": {},
   "outputs": [
    {
     "name": "stdout",
     "output_type": "stream",
     "text": [
      "prudvi\n",
      "PRUDVI\n"
     ]
    }
   ],
   "source": [
    "class IOString():\n",
    "\n",
    "    def get_String(self):\n",
    "        self.str1 = input()\n",
    "\n",
    "    def print_String(self):\n",
    "        print(self.str1.upper())\n",
    "\n",
    "str1 = IOString()\n",
    "str1.get_String()\n",
    "str1.print_String()\n"
   ]
  },
  {
   "cell_type": "markdown",
   "metadata": {},
   "source": [
    "Q9. Write the Python class named Rectangle constructed by a length\n",
    "and width and the method which will compute the area of the\n",
    "rectangle?"
   ]
  },
  {
   "cell_type": "code",
   "execution_count": 35,
   "metadata": {},
   "outputs": [
    {
     "name": "stdout",
     "output_type": "stream",
     "text": [
      "180\n"
     ]
    }
   ],
   "source": [
    "class rectangle:\n",
    "    def __init__(self,length,width):\n",
    "        self.l=length\n",
    "        self.w=width\n",
    "    def area(self):\n",
    "        return self.l*self.w\n",
    "    \n",
    "a=rectangle(15,12)\n",
    "print(a.area())"
   ]
  },
  {
   "cell_type": "markdown",
   "metadata": {},
   "source": [
    "Q10. Write the Python class named Circle constructed by the radius\n",
    "and two methods which will compute the area and perimeter of\n",
    "the circle?"
   ]
  },
  {
   "cell_type": "code",
   "execution_count": 41,
   "metadata": {},
   "outputs": [
    {
     "name": "stdout",
     "output_type": "stream",
     "text": [
      "452.3893421169302\n",
      "75.39822368615503\n"
     ]
    }
   ],
   "source": [
    "import math\n",
    "class circle:\n",
    "    def __init__(self,radius):\n",
    "        self.r=radius\n",
    "    def area(self):\n",
    "        return math.pi*(self.r**2)\n",
    "    def perimeter(self):\n",
    "        return 2*math.pi*self.r\n",
    "    \n",
    "a=circle(12)\n",
    "print(a.area())\n",
    "print(a.perimeter())"
   ]
  },
  {
   "cell_type": "markdown",
   "metadata": {},
   "source": [
    "Q11. Write the Python program to get the class name of an instance in\n",
    "Python?"
   ]
  },
  {
   "cell_type": "code",
   "execution_count": 42,
   "metadata": {},
   "outputs": [
    {
     "name": "stdout",
     "output_type": "stream",
     "text": [
      "circle\n"
     ]
    }
   ],
   "source": [
    "print(type(a).__name__)"
   ]
  },
  {
   "cell_type": "markdown",
   "metadata": {},
   "source": [
    "Q12. Write the Python program to count the number of students of\n",
    "individual class?\n",
    "\n",
    "    Sample dataclasses = (\n",
    "    ('V', 1),\n",
    "    ('VI', 1),\n",
    "    ('V', 2),\n",
    "    ('VI', 2),\n",
    "    ('VI', 3),\n",
    "    ('VII', 1),\n",
    "    )\n",
    "    Expected OutputCounter({'VI': 3, 'V': 2, 'VII': 1})"
   ]
  },
  {
   "cell_type": "code",
   "execution_count": 50,
   "metadata": {},
   "outputs": [
    {
     "name": "stdout",
     "output_type": "stream",
     "text": [
      "Counter({'VI': 3, 'V': 2, 'VII': 1})\n"
     ]
    }
   ],
   "source": [
    "from collections import Counter\n",
    "sample_classes = (('V', 1),('VI', 1),('V', 2),('VI', 2),('VI', 3),('VII', 1))\n",
    "#students = Counter(class_name for class_name, no_students in classes)\n",
    "a=[]\n",
    "for classes,students in sample_classes:\n",
    "    a.append(classes)\n",
    "print(Counter(a))\n"
   ]
  },
  {
   "cell_type": "markdown",
   "metadata": {},
   "source": [
    "## Great Job!"
   ]
  }
 ],
 "metadata": {
  "kernelspec": {
   "display_name": "Python 3",
   "language": "python",
   "name": "python3"
  },
  "language_info": {
   "codemirror_mode": {
    "name": "ipython",
    "version": 3
   },
   "file_extension": ".py",
   "mimetype": "text/x-python",
   "name": "python",
   "nbconvert_exporter": "python",
   "pygments_lexer": "ipython3",
   "version": "3.7.4"
  }
 },
 "nbformat": 4,
 "nbformat_minor": 2
}
